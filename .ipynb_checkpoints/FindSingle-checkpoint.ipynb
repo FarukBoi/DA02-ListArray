{
 "cells": [
  {
   "cell_type": "code",
   "execution_count": 1,
   "id": "92550ec8-6d27-49ff-9b89-7531f4dad847",
   "metadata": {},
   "outputs": [],
   "source": [
    "myList=[2,1,1,2,5]"
   ]
  },
  {
   "cell_type": "code",
   "execution_count": 3,
   "id": "78ae8dc3-1974-4d08-8619-c993625c2aa6",
   "metadata": {},
   "outputs": [],
   "source": [
    "def solution(nums):           #Time Complexity O(n^2)\n",
    "    if len(nums) ==1 :        #Space Complexity O(n)\n",
    "        return nums[0]    \n",
    "    else:\n",
    "        newList = []\n",
    "        for i in nums:\n",
    "            if i in newList:\n",
    "                newList.remove(i)\n",
    "            else:\n",
    "                newList.append(i)\n",
    "        return newList\n",
    "            "
   ]
  },
  {
   "cell_type": "code",
   "execution_count": 5,
   "id": "1d8354a4-b2d8-41d3-b9dd-0db652e34bcf",
   "metadata": {},
   "outputs": [
    {
     "data": {
      "text/plain": [
       "[5]"
      ]
     },
     "execution_count": 5,
     "metadata": {},
     "output_type": "execute_result"
    }
   ],
   "source": [
    "solution(myList)"
   ]
  },
  {
   "cell_type": "code",
   "execution_count": 7,
   "id": "f6ae1551-1011-4a6f-8b94-76dc777e53f8",
   "metadata": {},
   "outputs": [],
   "source": [
    "#XOR logic Gate\n",
    "def solution2(nums):             #Time Complexity O(n)\n",
    "    result = 0                   #Space Complexity O(1)\n",
    "    for i in nums:\n",
    "        \"\"\"if result != i :\n",
    "            result = i\n",
    "        else :\n",
    "            result = 0\"\"\"\n",
    "        result = i ^ result      # ^ = XOR shortcut\n",
    "    return result\n",
    "\n",
    "\n",
    "#bit manipulation"
   ]
  },
  {
   "cell_type": "code",
   "execution_count": 9,
   "id": "f68817ef-1f7e-447d-b67b-1f822c789b45",
   "metadata": {},
   "outputs": [
    {
     "data": {
      "text/plain": [
       "5"
      ]
     },
     "execution_count": 9,
     "metadata": {},
     "output_type": "execute_result"
    }
   ],
   "source": [
    "solution2(myList)"
   ]
  },
  {
   "cell_type": "code",
   "execution_count": null,
   "id": "a2b87c3c-a949-472a-8ed9-5ae523f66aa7",
   "metadata": {},
   "outputs": [],
   "source": []
  }
 ],
 "metadata": {
  "kernelspec": {
   "display_name": "Python 3 (ipykernel)",
   "language": "python",
   "name": "python3"
  },
  "language_info": {
   "codemirror_mode": {
    "name": "ipython",
    "version": 3
   },
   "file_extension": ".py",
   "mimetype": "text/x-python",
   "name": "python",
   "nbconvert_exporter": "python",
   "pygments_lexer": "ipython3",
   "version": "3.12.4"
  }
 },
 "nbformat": 4,
 "nbformat_minor": 5
}
