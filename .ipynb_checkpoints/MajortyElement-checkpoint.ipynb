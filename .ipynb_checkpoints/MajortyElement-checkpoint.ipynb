{
 "cells": [
  {
   "cell_type": "code",
   "execution_count": 1,
   "id": "6c461029-f0a5-412b-bc94-1a1f38ef3c96",
   "metadata": {},
   "outputs": [],
   "source": [
    "#Given an array nums of size n, return the majority element\n",
    "#The majorty element is the element that appears more than [n/2] times. You may assume that the mahırity elemenet always  exists in the array."
   ]
  },
  {
   "cell_type": "code",
   "execution_count": 213,
   "id": "3b562b9b-b3f2-4c57-ba77-652f678b2cf7",
   "metadata": {},
   "outputs": [],
   "source": [
    "myList=[2,2,1,1,1,2,2]"
   ]
  },
  {
   "cell_type": "code",
   "execution_count": 215,
   "id": "3725818b-971e-48f3-ad7b-2310282e576f",
   "metadata": {},
   "outputs": [],
   "source": [
    "def solution(nums):                                  #Time Complexity O(n^2)\n",
    "    counter = 0                                      #Space Complexity O(1)\n",
    "    \n",
    "    for i in range(len(nums)):\n",
    "        tempCounter = 0\n",
    "        for j in range(len(nums)):\n",
    "            if nums[i] == nums[j]:\n",
    "                tempCounter+=1\n",
    "                \n",
    "        if tempCounter > counter:\n",
    "            counter = tempCounter\n",
    "            result=nums[i]\n",
    "    return result\n"
   ]
  },
  {
   "cell_type": "code",
   "execution_count": 217,
   "id": "05e3104e-115a-4a67-88f1-a202e44f1532",
   "metadata": {},
   "outputs": [
    {
     "data": {
      "text/plain": [
       "2"
      ]
     },
     "execution_count": 217,
     "metadata": {},
     "output_type": "execute_result"
    }
   ],
   "source": [
    "solution(myList)"
   ]
  },
  {
   "cell_type": "code",
   "execution_count": 219,
   "id": "6d72ad59-38c4-4e90-88bf-11be239762cb",
   "metadata": {},
   "outputs": [],
   "source": [
    "def solution2(nums):                         #Time Complexity O(n)\n",
    "    numbers = {}                             #Space Complexity O(n)\n",
    "    result = 0\n",
    "    maxNumber = 0\n",
    "\n",
    "    for num in myList:\n",
    "        numbers[num] = 1 + numbers.get(num,0)\n",
    "        if numbers[num] > maxNumber:\n",
    "            result = num\n",
    "        maxNumber = max(maxNumber,numbers[num])\n",
    "    return result"
   ]
  },
  {
   "cell_type": "code",
   "execution_count": 221,
   "id": "c148397a-269a-4ffc-bc0a-8ea7e0928637",
   "metadata": {},
   "outputs": [
    {
     "data": {
      "text/plain": [
       "2"
      ]
     },
     "execution_count": 221,
     "metadata": {},
     "output_type": "execute_result"
    }
   ],
   "source": [
    "solution2(myList)"
   ]
  },
  {
   "cell_type": "code",
   "execution_count": 223,
   "id": "cac7d961-9116-400f-b44c-91da1f40c6ff",
   "metadata": {},
   "outputs": [],
   "source": [
    "#Boyer Moore algorithm\n",
    "def solution3(nums):                       #Time Complexity O(n)\n",
    "    result = 0                             #Space Complexity O(1)\n",
    "    count = 0\n",
    "\n",
    "    for num in myList:\n",
    "        if count == 0:\n",
    "            result = num\n",
    "        if num == result:\n",
    "            count += 1\n",
    "        else :\n",
    "            count -= 1\n",
    "    return result"
   ]
  },
  {
   "cell_type": "code",
   "execution_count": 225,
   "id": "979d5ccd-f077-471b-bf9f-5284424b0706",
   "metadata": {},
   "outputs": [
    {
     "data": {
      "text/plain": [
       "2"
      ]
     },
     "execution_count": 225,
     "metadata": {},
     "output_type": "execute_result"
    }
   ],
   "source": [
    "solution3(myList)"
   ]
  }
 ],
 "metadata": {
  "kernelspec": {
   "display_name": "Python 3 (ipykernel)",
   "language": "python",
   "name": "python3"
  },
  "language_info": {
   "codemirror_mode": {
    "name": "ipython",
    "version": 3
   },
   "file_extension": ".py",
   "mimetype": "text/x-python",
   "name": "python",
   "nbconvert_exporter": "python",
   "pygments_lexer": "ipython3",
   "version": "3.12.4"
  }
 },
 "nbformat": 4,
 "nbformat_minor": 5
}
