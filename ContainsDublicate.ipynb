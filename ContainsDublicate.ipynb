{
 "cells": [
  {
   "cell_type": "code",
   "execution_count": 193,
   "id": "fe93f88c-6127-495c-a090-41be23773d39",
   "metadata": {},
   "outputs": [],
   "source": [
    "myList = [1,2,3,4,5,6]"
   ]
  },
  {
   "cell_type": "code",
   "execution_count": 155,
   "id": "d2f91f07-53c0-4f45-b69a-581fdc66dcd1",
   "metadata": {},
   "outputs": [
    {
     "name": "stdout",
     "output_type": "stream",
     "text": [
      "0 0\n",
      "0 1\n",
      "0 2\n",
      "0 3\n",
      "0 4\n",
      "0 5\n",
      "1 0\n",
      "1 1\n",
      "1 2\n",
      "1 3\n",
      "1 4\n",
      "1 5\n",
      "2 0\n",
      "2 1\n",
      "2 2\n",
      "2 3\n",
      "2 4\n",
      "2 5\n",
      "3 0\n",
      "3 1\n",
      "3 2\n",
      "3 3\n",
      "3 4\n",
      "3 5\n",
      "4 0\n",
      "4 1\n",
      "4 2\n",
      "4 3\n",
      "4 4\n",
      "4 5\n",
      "5 0\n",
      "5 1\n",
      "5 2\n",
      "5 3\n",
      "5 4\n",
      "5 5\n"
     ]
    }
   ],
   "source": [
    "for i in range(len(myList)):\n",
    "    for j in range(len(myList)):\n",
    "        print(i,j)"
   ]
  },
  {
   "cell_type": "code",
   "execution_count": 183,
   "id": "28197838-fd90-49bb-8a62-b3bfc54dd403",
   "metadata": {},
   "outputs": [],
   "source": [
    "def solution():                        #Time Complexity O(N)\n",
    "    hashSet = set()                    #Space Complexity O(N)\n",
    "    for num in myList:\n",
    "        if num in hashSet:\n",
    "            return True\n",
    "        hashSet.add(num)\n",
    "    return False"
   ]
  },
  {
   "cell_type": "code",
   "execution_count": 191,
   "id": "bf136b67-65c2-49f7-9f71-45ef8e96750e",
   "metadata": {},
   "outputs": [
    {
     "data": {
      "text/plain": [
       "False"
      ]
     },
     "execution_count": 191,
     "metadata": {},
     "output_type": "execute_result"
    }
   ],
   "source": [
    "solution()"
   ]
  },
  {
   "cell_type": "code",
   "execution_count": 199,
   "id": "e36e0d8b-1252-48d4-8d92-89216877e4d7",
   "metadata": {},
   "outputs": [],
   "source": [
    "def solution2():\n",
    "    return len(myList) != len(set(myList))"
   ]
  },
  {
   "cell_type": "code",
   "execution_count": 203,
   "id": "a9dfe7f7-5aa8-428d-83af-5b3171559044",
   "metadata": {},
   "outputs": [
    {
     "data": {
      "text/plain": [
       "False"
      ]
     },
     "execution_count": 203,
     "metadata": {},
     "output_type": "execute_result"
    }
   ],
   "source": [
    "solution2()"
   ]
  },
  {
   "cell_type": "code",
   "execution_count": null,
   "id": "58ff3a0e-8eea-44b6-b20d-d0bf42719256",
   "metadata": {},
   "outputs": [],
   "source": []
  }
 ],
 "metadata": {
  "kernelspec": {
   "display_name": "Python 3 (ipykernel)",
   "language": "python",
   "name": "python3"
  },
  "language_info": {
   "codemirror_mode": {
    "name": "ipython",
    "version": 3
   },
   "file_extension": ".py",
   "mimetype": "text/x-python",
   "name": "python",
   "nbconvert_exporter": "python",
   "pygments_lexer": "ipython3",
   "version": "3.12.4"
  }
 },
 "nbformat": 4,
 "nbformat_minor": 5
}
